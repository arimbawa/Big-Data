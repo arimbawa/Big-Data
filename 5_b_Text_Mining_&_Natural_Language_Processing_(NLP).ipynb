{
  "nbformat": 4,
  "nbformat_minor": 0,
  "metadata": {
    "colab": {
      "provenance": [],
      "authorship_tag": "ABX9TyOuGXs3IrnELfFNqtmd0T9h",
      "include_colab_link": true
    },
    "kernelspec": {
      "name": "python3",
      "display_name": "Python 3"
    },
    "language_info": {
      "name": "python"
    }
  },
  "cells": [
    {
      "cell_type": "markdown",
      "metadata": {
        "id": "view-in-github",
        "colab_type": "text"
      },
      "source": [
        "<a href=\"https://colab.research.google.com/github/arimbawa/Big-Data/blob/main/5_b_Text_Mining_%26_Natural_Language_Processing_(NLP).ipynb\" target=\"_parent\"><img src=\"https://colab.research.google.com/assets/colab-badge.svg\" alt=\"Open In Colab\"/></a>"
      ]
    },
    {
      "cell_type": "markdown",
      "source": [
        "# Text Mining & Natural Language Processing (NLP)\n",
        "**Learning Objectives:**\n",
        "\n",
        "By the end of this module, students will be able to:\n",
        "\n",
        "1. Preprocess raw text (tokenization, stopword removal, stemming/lemmatization).\n",
        "\n",
        "2. Apply text mining techniques to explore word frequencies.\n",
        "\n",
        "3. Use NLTK and scikit-learn for NLP basics.\n",
        "\n",
        "4. Build simple sentiment analysis on Twitter data."
      ],
      "metadata": {
        "id": "Bwo_BtYXenrj"
      }
    },
    {
      "cell_type": "markdown",
      "source": [
        "# 1 Setup Libraries"
      ],
      "metadata": {
        "id": "NpFGAIwQe3Wi"
      }
    },
    {
      "cell_type": "code",
      "execution_count": 1,
      "metadata": {
        "colab": {
          "base_uri": "https://localhost:8080/"
        },
        "id": "Dqx4a0Fxea_N",
        "outputId": "920a0835-3807-4a2b-9eb2-f998dc04e016"
      },
      "outputs": [
        {
          "output_type": "stream",
          "name": "stdout",
          "text": [
            "Requirement already satisfied: nltk in /usr/local/lib/python3.12/dist-packages (3.9.1)\n",
            "Requirement already satisfied: scikit-learn in /usr/local/lib/python3.12/dist-packages (1.6.1)\n",
            "Requirement already satisfied: wordcloud in /usr/local/lib/python3.12/dist-packages (1.9.4)\n",
            "Requirement already satisfied: click in /usr/local/lib/python3.12/dist-packages (from nltk) (8.2.1)\n",
            "Requirement already satisfied: joblib in /usr/local/lib/python3.12/dist-packages (from nltk) (1.5.2)\n",
            "Requirement already satisfied: regex>=2021.8.3 in /usr/local/lib/python3.12/dist-packages (from nltk) (2024.11.6)\n",
            "Requirement already satisfied: tqdm in /usr/local/lib/python3.12/dist-packages (from nltk) (4.67.1)\n",
            "Requirement already satisfied: numpy>=1.19.5 in /usr/local/lib/python3.12/dist-packages (from scikit-learn) (2.0.2)\n",
            "Requirement already satisfied: scipy>=1.6.0 in /usr/local/lib/python3.12/dist-packages (from scikit-learn) (1.16.2)\n",
            "Requirement already satisfied: threadpoolctl>=3.1.0 in /usr/local/lib/python3.12/dist-packages (from scikit-learn) (3.6.0)\n",
            "Requirement already satisfied: pillow in /usr/local/lib/python3.12/dist-packages (from wordcloud) (11.3.0)\n",
            "Requirement already satisfied: matplotlib in /usr/local/lib/python3.12/dist-packages (from wordcloud) (3.10.0)\n",
            "Requirement already satisfied: contourpy>=1.0.1 in /usr/local/lib/python3.12/dist-packages (from matplotlib->wordcloud) (1.3.3)\n",
            "Requirement already satisfied: cycler>=0.10 in /usr/local/lib/python3.12/dist-packages (from matplotlib->wordcloud) (0.12.1)\n",
            "Requirement already satisfied: fonttools>=4.22.0 in /usr/local/lib/python3.12/dist-packages (from matplotlib->wordcloud) (4.60.0)\n",
            "Requirement already satisfied: kiwisolver>=1.3.1 in /usr/local/lib/python3.12/dist-packages (from matplotlib->wordcloud) (1.4.9)\n",
            "Requirement already satisfied: packaging>=20.0 in /usr/local/lib/python3.12/dist-packages (from matplotlib->wordcloud) (25.0)\n",
            "Requirement already satisfied: pyparsing>=2.3.1 in /usr/local/lib/python3.12/dist-packages (from matplotlib->wordcloud) (3.2.4)\n",
            "Requirement already satisfied: python-dateutil>=2.7 in /usr/local/lib/python3.12/dist-packages (from matplotlib->wordcloud) (2.9.0.post0)\n",
            "Requirement already satisfied: six>=1.5 in /usr/local/lib/python3.12/dist-packages (from python-dateutil>=2.7->matplotlib->wordcloud) (1.17.0)\n"
          ]
        },
        {
          "output_type": "stream",
          "name": "stderr",
          "text": [
            "[nltk_data] Downloading package punkt to /root/nltk_data...\n",
            "[nltk_data]   Unzipping tokenizers/punkt.zip.\n",
            "[nltk_data] Downloading package stopwords to /root/nltk_data...\n",
            "[nltk_data]   Unzipping corpora/stopwords.zip.\n",
            "[nltk_data] Downloading package wordnet to /root/nltk_data...\n"
          ]
        },
        {
          "output_type": "execute_result",
          "data": {
            "text/plain": [
              "True"
            ]
          },
          "metadata": {},
          "execution_count": 1
        }
      ],
      "source": [
        "!pip install nltk scikit-learn wordcloud\n",
        "import nltk\n",
        "\n",
        "# Download required datasets\n",
        "nltk.download('punkt')\n",
        "nltk.download('stopwords')\n",
        "nltk.download('wordnet')\n",
        "nltk.download('punkt_tab')"
      ]
    },
    {
      "cell_type": "markdown",
      "source": [
        "# 2 Sample Data (Twitter Dataset from Module 1)\n",
        "\n",
        "Here we reuse the tweets you collected earlier with Tweepy.\n",
        "If you don’t have them, here’s a fallback dataset:"
      ],
      "metadata": {
        "id": "tQq7MwwNe6RX"
      }
    },
    {
      "cell_type": "code",
      "source": [
        "# Example: Replace with your collected tweets\n",
        "tweets = [\n",
        "    \"I love studying NLP and Python!\",\n",
        "    \"The weather is terrible today. I feel sad.\",\n",
        "    \"AI and machine learning are the future.\",\n",
        "    \"I am so happy with my new research results!\",\n",
        "    \"This project is frustrating, but I will finish it.\"\n",
        "]"
      ],
      "metadata": {
        "id": "KuPhW5SMfY-J"
      },
      "execution_count": 2,
      "outputs": []
    },
    {
      "cell_type": "markdown",
      "source": [
        "# 3 Text Preprocessing"
      ],
      "metadata": {
        "id": "2yk4FmwvfdNI"
      }
    },
    {
      "cell_type": "code",
      "source": [
        "from nltk.corpus import stopwords\n",
        "from nltk.tokenize import word_tokenize\n",
        "from nltk.stem import WordNetLemmatizer\n",
        "import string\n",
        "import nltk\n",
        "\n",
        "\n",
        "stop_words = set(stopwords.words('english'))\n",
        "lemmatizer = WordNetLemmatizer()\n",
        "\n",
        "def preprocess(text):\n",
        "    tokens = word_tokenize(text.lower()) # lowercasing + tokenizing\n",
        "    tokens = [t for t in tokens if t.isalpha()] # remove numbers/punctuation\n",
        "    tokens = [t for t in tokens if t not in stop_words] # remove stopwords\n",
        "    tokens = [lemmatizer.lemmatize(t) for t in tokens] # lemmatization\n",
        "    return tokens\n",
        "\n",
        "cleaned = [preprocess(t) for t in tweets]\n",
        "print(cleaned)"
      ],
      "metadata": {
        "colab": {
          "base_uri": "https://localhost:8080/"
        },
        "id": "_gIV5P5Mfh-S",
        "outputId": "7ae9b0b4-e39b-4fdd-b6d8-1bacef5b8798"
      },
      "execution_count": 5,
      "outputs": [
        {
          "output_type": "stream",
          "name": "stdout",
          "text": [
            "[['love', 'studying', 'nlp', 'python'], ['weather', 'terrible', 'today', 'feel', 'sad'], ['ai', 'machine', 'learning', 'future'], ['happy', 'new', 'research', 'result'], ['project', 'frustrating', 'finish']]\n"
          ]
        }
      ]
    },
    {
      "cell_type": "markdown",
      "source": [
        "#4. Word Frequency & Visualization"
      ],
      "metadata": {
        "id": "rWyn8IRwfsKb"
      }
    },
    {
      "cell_type": "code",
      "source": [
        "from collections import Counter\n",
        "import matplotlib.pyplot as plt\n",
        "from wordcloud import WordCloud\n",
        "\n",
        "# Flatten tokens\n",
        "all_words = [word for tokens in cleaned for word in tokens]\n",
        "freq = Counter(all_words)\n",
        "\n",
        "print(freq.most_common(10))\n",
        "\n",
        "# Word Cloud\n",
        "wc = WordCloud(width=800, height=400, background_color='white').generate(\" \".join(all_words))\n",
        "plt.imshow(wc, interpolation=\"bilinear\")\n",
        "plt.axis(\"off\")\n",
        "plt.show()"
      ],
      "metadata": {
        "colab": {
          "base_uri": "https://localhost:8080/",
          "height": 303
        },
        "id": "fOHUFoy1fut_",
        "outputId": "96785942-c29d-4c1f-9b81-abeb152e2fb7"
      },
      "execution_count": 6,
      "outputs": [
        {
          "output_type": "stream",
          "name": "stdout",
          "text": [
            "[('love', 1), ('studying', 1), ('nlp', 1), ('python', 1), ('weather', 1), ('terrible', 1), ('today', 1), ('feel', 1), ('sad', 1), ('ai', 1)]\n"
          ]
        },
        {
          "output_type": "display_data",
          "data": {
            "text/plain": [
              "<Figure size 640x480 with 1 Axes>"
            ],
            "image/png": "[encoded data removed]"
          },
          "metadata": {}
        }
      ]
    },
    {
      "cell_type": "markdown",
      "source": [
        "# 5 Sentiment Analysis (Basic)\n",
        "We’ll use a simple Bag of Words + Naive Bayes classifier:"
      ],
      "metadata": {
        "id": "UpEDIzn9fziF"
      }
    },
    {
      "cell_type": "code",
      "source": [
        "from sklearn.feature_extraction.text import CountVectorizer\n",
        "from sklearn.naive_bayes import MultinomialNB\n",
        "\n",
        "# Training dataset\n",
        "train_texts = [\n",
        "    \"I love this!\", \"This is amazing\", \"I feel great\",\n",
        "    \"I hate this\", \"This is terrible\", \"I feel bad\"\n",
        "]\n",
        "train_labels = [\"pos\", \"pos\", \"pos\", \"neg\", \"neg\", \"neg\"]\n",
        "\n",
        "vectorizer = CountVectorizer()\n",
        "X_train = vectorizer.fit_transform(train_texts)\n",
        "\n",
        "model = MultinomialNB()\n",
        "model.fit(X_train, train_labels)\n",
        "\n",
        "# Predict sentiment of collected tweets\n",
        "X_test = vectorizer.transform(tweets)\n",
        "predictions = model.predict(X_test)\n",
        "\n",
        "for t, p in zip(tweets, predictions):\n",
        "    print(f\"{t} --> {p}\")"
      ],
      "metadata": {
        "colab": {
          "base_uri": "https://localhost:8080/"
        },
        "id": "rxsAqEVpfzGj",
        "outputId": "1b249c0f-6c63-42dd-a63d-039b8a5213a5"
      },
      "execution_count": 7,
      "outputs": [
        {
          "output_type": "stream",
          "name": "stdout",
          "text": [
            "I love studying NLP and Python! --> pos\n",
            "The weather is terrible today. I feel sad. --> neg\n",
            "AI and machine learning are the future. --> neg\n",
            "I am so happy with my new research results! --> neg\n",
            "This project is frustrating, but I will finish it. --> neg\n"
          ]
        }
      ]
    },
    {
      "cell_type": "markdown",
      "source": [
        "## At this point, students can:\n",
        "\n",
        "* Clean & preprocess them (tokenization, stopwords, lemmatization).\n",
        "\n",
        "* Visualize frequent words.\n",
        "\n",
        "* Do basic sentiment classification."
      ],
      "metadata": {
        "id": "V-npYQhCgBNu"
      }
    },
    {
      "cell_type": "markdown",
      "source": [
        "# Next:"
      ],
      "metadata": {
        "id": "3dwh06GcgZPv"
      }
    },
    {
      "cell_type": "markdown",
      "source": [
        "# 6 TF-IDF (Term Frequency–Inverse Document Frequency)\n",
        "\n",
        "TF-IDF membantu kita menemukan kata-kata penting dalam dokumen."
      ],
      "metadata": {
        "id": "V7Hx_VZGgsGD"
      }
    },
    {
      "cell_type": "code",
      "source": [
        "from sklearn.feature_extraction.text import TfidfVectorizer\n",
        "\n",
        "tfidf = TfidfVectorizer()\n",
        "X_tfidf = tfidf.fit_transform(tweets)\n",
        "\n",
        "print(\"Feature Names:\", tfidf.get_feature_names_out())\n",
        "print(\"TF-IDF Matrix:\\n\", X_tfidf.toarray())"
      ],
      "metadata": {
        "colab": {
          "base_uri": "https://localhost:8080/"
        },
        "id": "B_WrwuoTgY4z",
        "outputId": "e2bec3f7-ceb5-444d-87bc-ee9ae39bc031"
      },
      "execution_count": 8,
      "outputs": [
        {
          "output_type": "stream",
          "name": "stdout",
          "text": [
            "Feature Names: ['ai' 'am' 'and' 'are' 'but' 'feel' 'finish' 'frustrating' 'future'\n",
            " 'happy' 'is' 'it' 'learning' 'love' 'machine' 'my' 'new' 'nlp' 'project'\n",
            " 'python' 'research' 'results' 'sad' 'so' 'studying' 'terrible' 'the'\n",
            " 'this' 'today' 'weather' 'will' 'with']\n",
            "TF-IDF Matrix:\n",
            " [[0.         0.         0.37410477 0.         0.         0.\n",
            "  0.         0.         0.         0.         0.         0.\n",
            "  0.         0.46369322 0.         0.         0.         0.46369322\n",
            "  0.         0.46369322 0.         0.         0.         0.\n",
            "  0.46369322 0.         0.         0.         0.         0.\n",
            "  0.         0.        ]\n",
            " [0.         0.         0.         0.         0.         0.39835162\n",
            "  0.         0.         0.         0.         0.32138758 0.\n",
            "  0.         0.         0.         0.         0.         0.\n",
            "  0.         0.         0.         0.         0.39835162 0.\n",
            "  0.         0.39835162 0.32138758 0.         0.39835162 0.39835162\n",
            "  0.         0.        ]\n",
            " [0.39835162 0.         0.32138758 0.39835162 0.         0.\n",
            "  0.         0.         0.39835162 0.         0.         0.\n",
            "  0.39835162 0.         0.39835162 0.         0.         0.\n",
            "  0.         0.         0.         0.         0.         0.\n",
            "  0.         0.         0.32138758 0.         0.         0.\n",
            "  0.         0.        ]\n",
            " [0.         0.35355339 0.         0.         0.         0.\n",
            "  0.         0.         0.         0.35355339 0.         0.\n",
            "  0.         0.         0.         0.35355339 0.35355339 0.\n",
            "  0.         0.         0.35355339 0.35355339 0.         0.35355339\n",
            "  0.         0.         0.         0.         0.         0.\n",
            "  0.         0.35355339]\n",
            " [0.         0.         0.         0.         0.36152912 0.\n",
            "  0.36152912 0.36152912 0.         0.         0.29167942 0.36152912\n",
            "  0.         0.         0.         0.         0.         0.\n",
            "  0.36152912 0.         0.         0.         0.         0.\n",
            "  0.         0.         0.         0.36152912 0.         0.\n",
            "  0.36152912 0.        ]]\n"
          ]
        }
      ]
    },
    {
      "cell_type": "markdown",
      "source": [
        "# 7 Topic Modeling with LDA (Latent Dirichlet Allocation)\n",
        "\n",
        "Digunakan untuk menemukan topik tersembunyi dari kumpulan teks."
      ],
      "metadata": {
        "id": "jkLqqRdtgyw1"
      }
    },
    {
      "cell_type": "code",
      "source": [
        "from sklearn.decomposition import LatentDirichletAllocation\n",
        "\n",
        "# LDA with 2 topics\n",
        "lda = LatentDirichletAllocation(n_components=2, random_state=42)\n",
        "lda.fit(X_tfidf)\n",
        "\n",
        "# Display topics\n",
        "terms = tfidf.get_feature_names_out()\n",
        "for idx, topic in enumerate(lda.components_):\n",
        "    print(f\"Topic {idx}:\")\n",
        "    print([terms[i] for i in topic.argsort()[-5:]])"
      ],
      "metadata": {
        "colab": {
          "base_uri": "https://localhost:8080/"
        },
        "id": "v_U1Op4vg38r",
        "outputId": "f7deca43-3b17-465f-a56e-78ec1642b7ca"
      },
      "execution_count": 9,
      "outputs": [
        {
          "output_type": "stream",
          "name": "stdout",
          "text": [
            "Topic 0:\n",
            "['terrible', 'today', 'feel', 'weather', 'is']\n",
            "Topic 1:\n",
            "['studying', 'python', 'nlp', 'love', 'and']\n"
          ]
        }
      ]
    },
    {
      "cell_type": "markdown",
      "source": [
        "# 8 Named Entity Recognition (NER) dengan spaCy\n",
        "\n",
        "NER berguna untuk ekstraksi entitas seperti orang, organisasi, lokasi."
      ],
      "metadata": {
        "id": "4yChG4GNg7DO"
      }
    },
    {
      "cell_type": "code",
      "source": [
        "!pip install spacy\n",
        "!python -m spacy download en_core_web_sm\n",
        "\n",
        "import spacy\n",
        "nlp = spacy.load(\"en_core_web_sm\")\n",
        "\n",
        "doc = nlp(\"Apple is looking at buying U.K. startup for $1 billion\")\n",
        "for ent in doc.ents:\n",
        "    print(ent.text, ent.label_)"
      ],
      "metadata": {
        "colab": {
          "base_uri": "https://localhost:8080/"
        },
        "id": "thT1nlEMhBIQ",
        "outputId": "7d330818-9210-4a9a-b42a-3762bd20196f"
      },
      "execution_count": 11,
      "outputs": [
        {
          "output_type": "stream",
          "name": "stdout",
          "text": [
            "Requirement already satisfied: spacy in /usr/local/lib/python3.12/dist-packages (3.8.7)\n",
            "Requirement already satisfied: spacy-legacy<3.1.0,>=3.0.11 in /usr/local/lib/python3.12/dist-packages (from spacy) (3.0.12)\n",
            "Requirement already satisfied: spacy-loggers<2.0.0,>=1.0.0 in /usr/local/lib/python3.12/dist-packages (from spacy) (1.0.5)\n",
            "Requirement already satisfied: murmurhash<1.1.0,>=0.28.0 in /usr/local/lib/python3.12/dist-packages (from spacy) (1.0.13)\n",
            "Requirement already satisfied: cymem<2.1.0,>=2.0.2 in /usr/local/lib/python3.12/dist-packages (from spacy) (2.0.11)\n",
            "Requirement already satisfied: preshed<3.1.0,>=3.0.2 in /usr/local/lib/python3.12/dist-packages (from spacy) (3.0.10)\n",
            "Requirement already satisfied: thinc<8.4.0,>=8.3.4 in /usr/local/lib/python3.12/dist-packages (from spacy) (8.3.6)\n",
            "Requirement already satisfied: wasabi<1.2.0,>=0.9.1 in /usr/local/lib/python3.12/dist-packages (from spacy) (1.1.3)\n",
            "Requirement already satisfied: srsly<3.0.0,>=2.4.3 in /usr/local/lib/python3.12/dist-packages (from spacy) (2.5.1)\n",
            "Requirement already satisfied: catalogue<2.1.0,>=2.0.6 in /usr/local/lib/python3.12/dist-packages (from spacy) (2.0.10)\n",
            "Requirement already satisfied: weasel<0.5.0,>=0.1.0 in /usr/local/lib/python3.12/dist-packages (from spacy) (0.4.1)\n",
            "Requirement already satisfied: typer<1.0.0,>=0.3.0 in /usr/local/lib/python3.12/dist-packages (from spacy) (0.17.4)\n",
            "Requirement already satisfied: tqdm<5.0.0,>=4.38.0 in /usr/local/lib/python3.12/dist-packages (from spacy) (4.67.1)\n",
            "Requirement already satisfied: numpy>=1.19.0 in /usr/local/lib/python3.12/dist-packages (from spacy) (2.0.2)\n",
            "Requirement already satisfied: requests<3.0.0,>=2.13.0 in /usr/local/lib/python3.12/dist-packages (from spacy) (2.32.4)\n",
            "Requirement already satisfied: pydantic!=1.8,!=1.8.1,<3.0.0,>=1.7.4 in /usr/local/lib/python3.12/dist-packages (from spacy) (2.11.9)\n",
            "Requirement already satisfied: jinja2 in /usr/local/lib/python3.12/dist-packages (from spacy) (3.1.6)\n",
            "Requirement already satisfied: setuptools in /usr/local/lib/python3.12/dist-packages (from spacy) (75.2.0)\n",
            "Requirement already satisfied: packaging>=20.0 in /usr/local/lib/python3.12/dist-packages (from spacy) (25.0)\n",
            "Requirement already satisfied: langcodes<4.0.0,>=3.2.0 in /usr/local/lib/python3.12/dist-packages (from spacy) (3.5.0)\n",
            "Requirement already satisfied: language-data>=1.2 in /usr/local/lib/python3.12/dist-packages (from langcodes<4.0.0,>=3.2.0->spacy) (1.3.0)\n",
            "Requirement already satisfied: annotated-types>=0.6.0 in /usr/local/lib/python3.12/dist-packages (from pydantic!=1.8,!=1.8.1,<3.0.0,>=1.7.4->spacy) (0.7.0)\n",
            "Requirement already satisfied: pydantic-core==2.33.2 in /usr/local/lib/python3.12/dist-packages (from pydantic!=1.8,!=1.8.1,<3.0.0,>=1.7.4->spacy) (2.33.2)\n",
            "Requirement already satisfied: typing-extensions>=4.12.2 in /usr/local/lib/python3.12/dist-packages (from pydantic!=1.8,!=1.8.1,<3.0.0,>=1.7.4->spacy) (4.15.0)\n",
            "Requirement already satisfied: typing-inspection>=0.4.0 in /usr/local/lib/python3.12/dist-packages (from pydantic!=1.8,!=1.8.1,<3.0.0,>=1.7.4->spacy) (0.4.1)\n",
            "Requirement already satisfied: charset_normalizer<4,>=2 in /usr/local/lib/python3.12/dist-packages (from requests<3.0.0,>=2.13.0->spacy) (3.4.3)\n",
            "Requirement already satisfied: idna<4,>=2.5 in /usr/local/lib/python3.12/dist-packages (from requests<3.0.0,>=2.13.0->spacy) (3.10)\n",
            "Requirement already satisfied: urllib3<3,>=1.21.1 in /usr/local/lib/python3.12/dist-packages (from requests<3.0.0,>=2.13.0->spacy) (2.5.0)\n",
            "Requirement already satisfied: certifi>=2017.4.17 in /usr/local/lib/python3.12/dist-packages (from requests<3.0.0,>=2.13.0->spacy) (2025.8.3)\n",
            "Requirement already satisfied: blis<1.4.0,>=1.3.0 in /usr/local/lib/python3.12/dist-packages (from thinc<8.4.0,>=8.3.4->spacy) (1.3.0)\n",
            "Requirement already satisfied: confection<1.0.0,>=0.0.1 in /usr/local/lib/python3.12/dist-packages (from thinc<8.4.0,>=8.3.4->spacy) (0.1.5)\n",
            "Requirement already satisfied: click>=8.0.0 in /usr/local/lib/python3.12/dist-packages (from typer<1.0.0,>=0.3.0->spacy) (8.2.1)\n",
            "Requirement already satisfied: shellingham>=1.3.0 in /usr/local/lib/python3.12/dist-packages (from typer<1.0.0,>=0.3.0->spacy) (1.5.4)\n",
            "Requirement already satisfied: rich>=10.11.0 in /usr/local/lib/python3.12/dist-packages (from typer<1.0.0,>=0.3.0->spacy) (13.9.4)\n",
            "Requirement already satisfied: cloudpathlib<1.0.0,>=0.7.0 in /usr/local/lib/python3.12/dist-packages (from weasel<0.5.0,>=0.1.0->spacy) (0.22.0)\n",
            "Requirement already satisfied: smart-open<8.0.0,>=5.2.1 in /usr/local/lib/python3.12/dist-packages (from weasel<0.5.0,>=0.1.0->spacy) (7.3.1)\n",
            "Requirement already satisfied: MarkupSafe>=2.0 in /usr/local/lib/python3.12/dist-packages (from jinja2->spacy) (3.0.2)\n",
            "Requirement already satisfied: marisa-trie>=1.1.0 in /usr/local/lib/python3.12/dist-packages (from language-data>=1.2->langcodes<4.0.0,>=3.2.0->spacy) (1.3.1)\n",
            "Requirement already satisfied: markdown-it-py>=2.2.0 in /usr/local/lib/python3.12/dist-packages (from rich>=10.11.0->typer<1.0.0,>=0.3.0->spacy) (4.0.0)\n",
            "Requirement already satisfied: pygments<3.0.0,>=2.13.0 in /usr/local/lib/python3.12/dist-packages (from rich>=10.11.0->typer<1.0.0,>=0.3.0->spacy) (2.19.2)\n",
            "Requirement already satisfied: wrapt in /usr/local/lib/python3.12/dist-packages (from smart-open<8.0.0,>=5.2.1->weasel<0.5.0,>=0.1.0->spacy) (1.17.3)\n",
            "Requirement already satisfied: mdurl~=0.1 in /usr/local/lib/python3.12/dist-packages (from markdown-it-py>=2.2.0->rich>=10.11.0->typer<1.0.0,>=0.3.0->spacy) (0.1.2)\n",
            "Collecting en-core-web-sm==3.8.0\n",
            "  Downloading https://github.com/explosion/spacy-models/releases/download/en_core_web_sm-3.8.0/en_core_web_sm-3.8.0-py3-none-any.whl (12.8 MB)\n",
            "\u001b[2K     \u001b[90m━━━━━━━━━━━━━━━━━━━━━━━━━━━━━━━━━━━━━━━━\u001b[0m \u001b[32m12.8/12.8 MB\u001b[0m \u001b[31m63.6 MB/s\u001b[0m eta \u001b[36m0:00:00\u001b[0m\n",
            "\u001b[?25h\u001b[38;5;2m✔ Download and installation successful\u001b[0m\n",
            "You can now load the package via spacy.load('en_core_web_sm')\n",
            "\u001b[38;5;3m⚠ Restart to reload dependencies\u001b[0m\n",
            "If you are in a Jupyter or Colab notebook, you may need to restart Python in\n",
            "order to load all the package's dependencies. You can do this by selecting the\n",
            "'Restart kernel' or 'Restart runtime' option.\n",
            "Apple ORG\n",
            "U.K. GPE\n",
            "$1 billion MONEY\n"
          ]
        }
      ]
    },
    {
      "cell_type": "markdown",
      "source": [
        "# 9 Sentiment Analysis with Pretrained Transformers (BERT)\n",
        "\n",
        "Kita manfaatkan Hugging Face Transformers untuk analisis sentimen dengan model BERT yang sudah dilatih."
      ],
      "metadata": {
        "id": "ssi1Y1BzhF6a"
      }
    },
    {
      "cell_type": "code",
      "source": [
        "!pip install transformers torch --quiet\n",
        "\n",
        "from transformers import pipeline\n",
        "\n",
        "# Load pretrained sentiment pipeline\n",
        "sentiment = pipeline(\"sentiment-analysis\")\n",
        "\n",
        "sample_texts = [\n",
        "    \"I really love learning NLP!\",\n",
        "    \"This is the worst research paper I've ever read.\",\n",
        "    \"The conference was okay, not too exciting.\"\n",
        "]\n",
        "\n",
        "results = sentiment(sample_texts)\n",
        "for t, r in zip(sample_texts, results):\n",
        "    print(f\"{t} --> {r}\")"
      ],
      "metadata": {
        "colab": {
          "base_uri": "https://localhost:8080/",
          "height": 379,
          "referenced_widgets": [
            "350aecd47db04ad19e36fafeb5e55fbd",
            "b35e1260efce48d4bf3a9015ec92be0b",
            "658ef699209242f8842356fe3d0b0476",
            "34b282bbd19c41debde2347780d76a75",
            "f0d69a1c65e34ec7b0f38305dbc6bc78",
            "e60a3cc1542a4e659cb88bd0d8676f00",
            "7b846af4d32e4aa682bfa3c66c0d1f53",
            "ea5c9a378b72495a8a5fb5578d70bbb2",
            "5d548f50017d44d580f0bc265d2346eb",
            "2e058a2561694d5bbdba927a08799de9",
            "8e57e282bc334f5f867c05f57203e357",
            "31d50a102f2f43b7a471d4d045035fee",
            "28f536baebcb4a64afda30838cb17aeb",
            "7a007e7568c341e0981cea9d927b0754",
            "22a5bb0c6bba44c68e6df9362598dd8c",
            "f198d4b6121349f5b1864d5db4d076a4",
            "2bbe634cf04d4f0c81fe37b9fa349504",
            "b45b4ecf5af4413cbf9818345c57b477",
            "b2ff8fe84b444f0db8b1ca1029b1d903",
            "ee2e65abb31b45eba7b82a1275c95313",
            "af15cfbad7e04844a1b550472957c6df",
            "400fbec016ee4762b84361b3273a0857",
            "6ef5035f7338458cbc0799bac33edd36",
            "dbcc081497ba400bbe2752fe849aad01",
            "2e4044cee38f4a0db7da3ab0a4da5b4d",
            "f6d18962ad674c16a67889a9d4fec9cb",
            "dca85c0ee4334427ae926c6446e270f8",
            "3ac574b1f9184654a9ff8ab8c5565f9e",
            "b6b5ede6b7de415abe1d5be7e4da78b4",
            "9041675afd9f454ab3eeaa3e6541c358",
            "9c997ef716264f34b1d4f7fbcca3893b",
            "8c351eab0e08410f91c64f5a7322638d",
            "03d2135d686d4510a35061b94da05c6b",
            "3df748c1f5034b8b93d51e79ee2d45b5",
            "42f72e60b09a425da6f273a176bc6dd7",
            "b391b1ebdfd74cfea4bc8b18b8d88098",
            "4edca86d3398455caa2d6224c16bcb2f",
            "5ff8a5e3425940edb5bf6d88f0d70889",
            "1d349a57652746f6a89dd3cd42052732",
            "2d0e84a1b8fc4479ac19fee693b6251a",
            "1914bac7562249ff92162be9385b9d47",
            "7f88d051ec77444b88387f34438033b2",
            "11f27495c744405981c591707add503f",
            "02b0be15e35a48e4abd0fa59a04d9703"
          ]
        },
        "id": "b2zHvLCuhMWK",
        "outputId": "5bd27dbc-0e55-4ba2-ace2-1df8fe96bf5e"
      },
      "execution_count": 12,
      "outputs": [
        {
          "output_type": "stream",
          "name": "stderr",
          "text": [
            "No model was supplied, defaulted to distilbert/distilbert-base-uncased-finetuned-sst-2-english and revision 714eb0f (https://huggingface.co/distilbert/distilbert-base-uncased-finetuned-sst-2-english).\n",
            "Using a pipeline without specifying a model name and revision in production is not recommended.\n",
            "/usr/local/lib/python3.12/dist-packages/huggingface_hub/utils/_auth.py:94: UserWarning: \n",
            "The secret `HF_TOKEN` does not exist in your Colab secrets.\n",
            "To authenticate with the Hugging Face Hub, create a token in your settings tab (https://huggingface.co/settings/tokens), set it as secret in your Google Colab and restart your session.\n",
            "You will be able to reuse this secret in all of your notebooks.\n",
            "Please note that authentication is recommended but still optional to access public models or datasets.\n",
            "  warnings.warn(\n"
          ]
        },
        {
          "output_type": "display_data",
          "data": {
            "text/plain": [
              "config.json:   0%|          | 0.00/629 [00:00<?, ?B/s]"
            ],
            "application/vnd.jupyter.widget-view+json": {
              "version_major": 2,
              "version_minor": 0,
              "model_id": "350aecd47db04ad19e36fafeb5e55fbd"
            }
          },
          "metadata": {}
        },
        {
          "output_type": "display_data",
          "data": {
            "text/plain": [
              "model.safetensors:   0%|          | 0.00/268M [00:00<?, ?B/s]"
            ],
            "application/vnd.jupyter.widget-view+json": {
              "version_major": 2,
              "version_minor": 0,
              "model_id": "31d50a102f2f43b7a471d4d045035fee"
            }
          },
          "metadata": {}
        },
        {
          "output_type": "display_data",
          "data": {
            "text/plain": [
              "tokenizer_config.json:   0%|          | 0.00/48.0 [00:00<?, ?B/s]"
            ],
            "application/vnd.jupyter.widget-view+json": {
              "version_major": 2,
              "version_minor": 0,
              "model_id": "6ef5035f7338458cbc0799bac33edd36"
            }
          },
          "metadata": {}
        },
        {
          "output_type": "display_data",
          "data": {
            "text/plain": [
              "vocab.txt: 0.00B [00:00, ?B/s]"
            ],
            "application/vnd.jupyter.widget-view+json": {
              "version_major": 2,
              "version_minor": 0,
              "model_id": "3df748c1f5034b8b93d51e79ee2d45b5"
            }
          },
          "metadata": {}
        },
        {
          "output_type": "stream",
          "name": "stderr",
          "text": [
            "Device set to use cpu\n"
          ]
        },
        {
          "output_type": "stream",
          "name": "stdout",
          "text": [
            "I really love learning NLP! --> {'label': 'POSITIVE', 'score': 0.9995535016059875}\n",
            "This is the worst research paper I've ever read. --> {'label': 'NEGATIVE', 'score': 0.9997852444648743}\n",
            "The conference was okay, not too exciting. --> {'label': 'POSITIVE', 'score': 0.9937736988067627}\n"
          ]
        }
      ]
    }
  ]
}
