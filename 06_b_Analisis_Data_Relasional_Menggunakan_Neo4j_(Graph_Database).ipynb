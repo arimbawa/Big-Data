{
  "nbformat": 4,
  "nbformat_minor": 0,
  "metadata": {
    "colab": {
      "provenance": [],
      "authorship_tag": "ABX9TyOJ1w+HKfXFeKgQV8mwi+vw",
      "include_colab_link": true
    },
    "kernelspec": {
      "name": "python3",
      "display_name": "Python 3"
    },
    "language_info": {
      "name": "python"
    }
  },
  "cells": [
    {
      "cell_type": "markdown",
      "metadata": {
        "id": "view-in-github",
        "colab_type": "text"
      },
      "source": [
        "<a href=\"https://colab.research.google.com/github/arimbawa/Big-Data/blob/main/06_b_Analisis_Data_Relasional_Menggunakan_Neo4j_(Graph_Database).ipynb\" target=\"_parent\"><img src=\"https://colab.research.google.com/assets/colab-badge.svg\" alt=\"Open In Colab\"/></a>"
      ]
    },
    {
      "cell_type": "markdown",
      "source": [
        "# Analisis Data Relasional Menggunakan Neo4j (Graph Database)"
      ],
      "metadata": {
        "id": "0IdmLde3ja-0"
      }
    },
    {
      "cell_type": "markdown",
      "source": [
        "**Tujuan:**\n",
        "\n",
        "1. Mahasiswa memahami konsep dasar Graph Database dan property graph model.\n",
        "2. Mahasiswa mampu membuat node, relationship, dan query menggunakan Cypher Query Language.\n",
        "3. Mahasiswa mengenal penggunaan Neo4j untuk analisis hubungan (misalnya jejaring sosial atau kolaborasi penelitian)."
      ],
      "metadata": {
        "id": "OtZu4np2jmml"
      }
    },
    {
      "cell_type": "markdown",
      "source": [
        "**Apa itu Neo4j?**\n",
        "\n",
        "1. Neo4j adalah database berbasis graf, bukan tabel.\n",
        "2. Data direpresentasikan sebagai:\n",
        "3. Node → entitas (orang, institusi, artikel, produk)\n",
        "4. Relationship → hubungan antar node\n",
        "5. Property → atribut tambahan (misalnya nama, tahun, skor)"
      ],
      "metadata": {
        "id": "K_LjjLYwjyDt"
      }
    },
    {
      "cell_type": "markdown",
      "source": [
        "Contoh struktur:</p>\n",
        "(Agus:Person {name:'Agus'})-[:COLLABORATES_WITH]->(Budi:Person {name:'Budi'})"
      ],
      "metadata": {
        "id": "DEc1LoRNj89-"
      }
    },
    {
      "cell_type": "markdown",
      "source": [
        "# Langkah 1: Setup di Google Colab\n",
        "Jalankan ini terlebih dahulu di Colab:"
      ],
      "metadata": {
        "id": "DxRxZK_OkSTl"
      }
    },
    {
      "cell_type": "code",
      "execution_count": 2,
      "metadata": {
        "colab": {
          "base_uri": "https://localhost:8080/"
        },
        "id": "aXt9pxt_jZjk",
        "outputId": "e822430f-27ed-4004-a22b-ff37087f0f0f"
      },
      "outputs": [
        {
          "output_type": "stream",
          "name": "stdout",
          "text": [
            "Collecting neo4j\n",
            "  Downloading neo4j-6.0.2-py3-none-any.whl.metadata (5.2 kB)\n",
            "Requirement already satisfied: pytz in /usr/local/lib/python3.12/dist-packages (from neo4j) (2025.2)\n",
            "Downloading neo4j-6.0.2-py3-none-any.whl (325 kB)\n",
            "\u001b[?25l   \u001b[90m━━━━━━━━━━━━━━━━━━━━━━━━━━━━━━━━━━━━━━━━\u001b[0m \u001b[32m0.0/325.8 kB\u001b[0m \u001b[31m?\u001b[0m eta \u001b[36m-:--:--\u001b[0m\r\u001b[2K   \u001b[90m━━━━━━━━━━━━━━━━━━━━━━━━━━━━━━━━━━━━━━━━\u001b[0m \u001b[32m325.8/325.8 kB\u001b[0m \u001b[31m14.1 MB/s\u001b[0m eta \u001b[36m0:00:00\u001b[0m\n",
            "\u001b[?25hInstalling collected packages: neo4j\n",
            "Successfully installed neo4j-6.0.2\n"
          ]
        }
      ],
      "source": [
        "!pip install neo4j"
      ]
    },
    {
      "cell_type": "markdown",
      "source": [
        "# Langkah 2: Siapkan Database Neo4j (AuraDB Free)\n",
        "\n",
        "1. Buka: https://neo4j.com/product/auradb/\n",
        "2. Login menggunakan akun Google.\n",
        "3. Buat database baru.\n",
        "4. Setelah aktif, catat detail koneksi seperti:\n",
        "  - Connection URI: neo4j+s://xxxxx.databases.neo4j.io\n",
        "  - Username: neo4j\n",
        "  - Password: (dibuat saat setup)"
      ],
      "metadata": {
        "id": "fzSu049ZkbIz"
      }
    },
    {
      "cell_type": "markdown",
      "source": [
        "# Langkah 3: Koneksi dari Colab ke Neo4j"
      ],
      "metadata": {
        "id": "ug9Tn691lHEY"
      }
    },
    {
      "cell_type": "code",
      "source": [
        "# Ganti dengan kredensial Anda\n",
        "uri = \"neo4j+s://XXXXX.databases.neo4j.io\"\n",
        "username = \"XXXX\"\n",
        "password = \"XXXXXXXXXX\"\n",
        "\n",
        "from neo4j import GraphDatabase\n",
        "\n",
        "driver = GraphDatabase.driver(uri, auth=(username, password))\n",
        "\n",
        "print(\"Koneksi ke Neo4j berhasil!\")"
      ],
      "metadata": {
        "colab": {
          "base_uri": "https://localhost:8080/"
        },
        "id": "pigkL14OlUUn",
        "outputId": "7f3aadbd-e9f7-4e49-c298-816bdd2454a7"
      },
      "execution_count": 4,
      "outputs": [
        {
          "output_type": "stream",
          "name": "stdout",
          "text": [
            "Koneksi ke Neo4j berhasil!\n"
          ]
        }
      ]
    },
    {
      "cell_type": "markdown",
      "source": [
        "# Langkah 4: Membuat Node dan Relationship\n",
        "\n"
      ],
      "metadata": {
        "id": "9i01TAR4lLK5"
      }
    },
    {
      "cell_type": "code",
      "source": [
        "def create_data(tx):\n",
        "    # Hapus data lama\n",
        "    tx.run(\"MATCH (n) DETACH DELETE n\")\n",
        "\n",
        "    # Buat node Person dan Relationship\n",
        "    tx.run(\"\"\"\n",
        "        CREATE (a:Person {name:'Agus', bidang:'IoT'}),\n",
        "               (b:Person {name:'Budi', bidang:'AI'}),\n",
        "               (c:Person {name:'Citra', bidang:'Data Science'}),\n",
        "               (d:Person {name:'Dewi', bidang:'IoT'}),\n",
        "               (a)-[:COLLABORATES_WITH]->(b),\n",
        "               (b)-[:COLLABORATES_WITH]->(c),\n",
        "               (a)-[:COLLABORATES_WITH]->(d)\n",
        "    \"\"\")\n",
        "\n",
        "with driver.session() as session:\n",
        "    session.execute_write(create_data)\n",
        "\n",
        "print(\"Data graf berhasil dibuat!\")"
      ],
      "metadata": {
        "colab": {
          "base_uri": "https://localhost:8080/"
        },
        "id": "OKKZ13SnlZhx",
        "outputId": "2c57a7a5-1d6e-461b-9b7c-974c6758965e"
      },
      "execution_count": 5,
      "outputs": [
        {
          "output_type": "stream",
          "name": "stdout",
          "text": [
            "Data graf berhasil dibuat!\n"
          ]
        }
      ]
    },
    {
      "cell_type": "markdown",
      "source": [
        "# Langkah 5: Menjalankan Query Cypher\n",
        "\n",
        "Menampilkan seluruh node:"
      ],
      "metadata": {
        "id": "wr8eBBnZliJm"
      }
    },
    {
      "cell_type": "code",
      "source": [
        "with driver.session() as session:\n",
        "    result = session.run(\"MATCH (n) RETURN n.name AS nama, n.bidang AS bidang\")\n",
        "    for record in result:\n",
        "        print(record[\"nama\"], \"-\", record[\"bidang\"])"
      ],
      "metadata": {
        "colab": {
          "base_uri": "https://localhost:8080/"
        },
        "id": "toJTt6E_loON",
        "outputId": "bf60dfeb-f31e-4c1b-a0a6-e33d440ba41f"
      },
      "execution_count": 6,
      "outputs": [
        {
          "output_type": "stream",
          "name": "stdout",
          "text": [
            "Agus - IoT\n",
            "Budi - AI\n",
            "Citra - Data Science\n",
            "Dewi - IoT\n"
          ]
        }
      ]
    },
    {
      "cell_type": "markdown",
      "source": [
        "Menampilkan relasi kolaborasi:"
      ],
      "metadata": {
        "id": "bkFjG_itlrHz"
      }
    },
    {
      "cell_type": "code",
      "source": [
        "with driver.session() as session:\n",
        "    result = session.run(\"\"\"\n",
        "        MATCH (a)-[r:COLLABORATES_WITH]->(b)\n",
        "        RETURN a.name AS from, b.name AS to\n",
        "    \"\"\")\n",
        "    for record in result:\n",
        "        print(f\"{record['from']} → {record['to']}\")"
      ],
      "metadata": {
        "colab": {
          "base_uri": "https://localhost:8080/"
        },
        "id": "MGL3CSB4lt8k",
        "outputId": "dc856f5e-9b15-46d3-b6e4-849514f810d4"
      },
      "execution_count": 7,
      "outputs": [
        {
          "output_type": "stream",
          "name": "stdout",
          "text": [
            "Agus → Budi\n",
            "Agus → Dewi\n",
            "Budi → Citra\n"
          ]
        }
      ]
    },
    {
      "cell_type": "markdown",
      "source": [
        "# Langkah 6: Analisis Sederhana\n",
        "a. Temukan siapa yang berkolaborasi dengan “Agus”:"
      ],
      "metadata": {
        "id": "q2vPIPJXlw7J"
      }
    },
    {
      "cell_type": "code",
      "source": [
        "query = \"\"\"\n",
        "MATCH (a:Person {name:'Agus'})-[:COLLABORATES_WITH]->(partner)\n",
        "RETURN partner.name AS kolaborator\n",
        "\"\"\"\n",
        "with driver.session() as session:\n",
        "    result = session.run(query)\n",
        "    for record in result:\n",
        "        print(\"Kolaborator Agus:\", record[\"kolaborator\"])"
      ],
      "metadata": {
        "colab": {
          "base_uri": "https://localhost:8080/"
        },
        "id": "XVNHz1yFlwkR",
        "outputId": "349a2ccd-2093-450f-9c7e-94111c8f64fc"
      },
      "execution_count": 8,
      "outputs": [
        {
          "output_type": "stream",
          "name": "stdout",
          "text": [
            "Kolaborator Agus: Budi\n",
            "Kolaborator Agus: Dewi\n"
          ]
        }
      ]
    },
    {
      "cell_type": "markdown",
      "source": [
        "b. Temukan semua path kolaborasi dari Agus ke Citra:"
      ],
      "metadata": {
        "id": "-EbtrjD9l52s"
      }
    },
    {
      "cell_type": "code",
      "source": [
        "query = \"\"\"\n",
        "MATCH path = (a:Person {name:'Agus'})-[*]-(b:Person {name:'Citra'})\n",
        "RETURN path\n",
        "\"\"\"\n",
        "with driver.session() as session:\n",
        "    result = session.run(query)\n",
        "    print(\"Path ditemukan:\", len(list(result)) > 0)"
      ],
      "metadata": {
        "colab": {
          "base_uri": "https://localhost:8080/"
        },
        "id": "Gg5an-P6l8si",
        "outputId": "8d4c0d64-bb7e-40c2-d8af-1e2ade02e7b7"
      },
      "execution_count": 9,
      "outputs": [
        {
          "output_type": "stream",
          "name": "stdout",
          "text": [
            "Path ditemukan: True\n"
          ]
        }
      ]
    },
    {
      "cell_type": "markdown",
      "source": [
        "# Diskusi\n",
        "\n",
        "1. Apa keuntungan menggunakan Neo4j dibanding SQL untuk data hubungan?\n",
        "2. Bagaimana model graf ini cocok untuk analisis jejaring sosial, kolaborasi paten, atau riset akademik?\n",
        "3. Bagaimana integrasi Neo4j dalam sistem Big Data (misalnya layer analisis relasi pada data lake)?"
      ],
      "metadata": {
        "id": "VC40nUudl_fM"
      }
    }
  ]
}
