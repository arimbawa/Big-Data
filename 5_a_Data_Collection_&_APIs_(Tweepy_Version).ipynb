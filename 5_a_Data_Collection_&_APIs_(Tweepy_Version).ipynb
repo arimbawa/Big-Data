{
  "nbformat": 4,
  "nbformat_minor": 0,
  "metadata": {
    "colab": {
      "provenance": [],
      "authorship_tag": "ABX9TyNMUiuA/NFM6IEbnhoVwyJ1",
      "include_colab_link": true
    },
    "kernelspec": {
      "name": "python3",
      "display_name": "Python 3"
    },
    "language_info": {
      "name": "python"
    }
  },
  "cells": [
    {
      "cell_type": "markdown",
      "metadata": {
        "id": "view-in-github",
        "colab_type": "text"
      },
      "source": [
        "<a href=\"https://colab.research.google.com/github/arimbawa/Big-Data/blob/main/5_a_Data_Collection_%26_APIs_(Tweepy_Version).ipynb\" target=\"_parent\"><img src=\"https://colab.research.google.com/assets/colab-badge.svg\" alt=\"Open In Colab\"/></a>"
      ]
    },
    {
      "cell_type": "markdown",
      "source": [
        "#Data Collection & APIs (Tweepy Version)\n",
        "**Learning Objectives**\n",
        "\n",
        "1. Memahami konsep API dan autentikasi.\n",
        "2. Menggunakan Tweepy untuk mengakses data X/Twitter.\n",
        "3. Mengambil data tweet sesuai keyword/hashtag.\n",
        "4. Menyimpan hasil ke DataFrame/CSV untuk analisis lanjutan."
      ],
      "metadata": {
        "id": "yv5c7LQSbN6k"
      }
    },
    {
      "cell_type": "markdown",
      "source": [
        "# Step 1. Install Library"
      ],
      "metadata": {
        "id": "kOYnJehhbbjA"
      }
    },
    {
      "cell_type": "code",
      "execution_count": 3,
      "metadata": {
        "colab": {
          "base_uri": "https://localhost:8080/"
        },
        "id": "HRQrQJGfaUPt",
        "outputId": "bcf4ebd8-2df7-4efe-c2c4-31d529dab4ec"
      },
      "outputs": [
        {
          "output_type": "stream",
          "name": "stdout",
          "text": [
            "Requirement already satisfied: tweepy in /usr/local/lib/python3.12/dist-packages (4.16.0)\n",
            "Requirement already satisfied: pandas in /usr/local/lib/python3.12/dist-packages (2.2.2)\n",
            "Requirement already satisfied: oauthlib<4,>=3.2.0 in /usr/local/lib/python3.12/dist-packages (from tweepy) (3.3.1)\n",
            "Requirement already satisfied: requests<3,>=2.27.0 in /usr/local/lib/python3.12/dist-packages (from tweepy) (2.32.4)\n",
            "Requirement already satisfied: requests-oauthlib<3,>=1.2.0 in /usr/local/lib/python3.12/dist-packages (from tweepy) (2.0.0)\n",
            "Requirement already satisfied: numpy>=1.26.0 in /usr/local/lib/python3.12/dist-packages (from pandas) (2.0.2)\n",
            "Requirement already satisfied: python-dateutil>=2.8.2 in /usr/local/lib/python3.12/dist-packages (from pandas) (2.9.0.post0)\n",
            "Requirement already satisfied: pytz>=2020.1 in /usr/local/lib/python3.12/dist-packages (from pandas) (2025.2)\n",
            "Requirement already satisfied: tzdata>=2022.7 in /usr/local/lib/python3.12/dist-packages (from pandas) (2025.2)\n",
            "Requirement already satisfied: six>=1.5 in /usr/local/lib/python3.12/dist-packages (from python-dateutil>=2.8.2->pandas) (1.17.0)\n",
            "Requirement already satisfied: charset_normalizer<4,>=2 in /usr/local/lib/python3.12/dist-packages (from requests<3,>=2.27.0->tweepy) (3.4.3)\n",
            "Requirement already satisfied: idna<4,>=2.5 in /usr/local/lib/python3.12/dist-packages (from requests<3,>=2.27.0->tweepy) (3.10)\n",
            "Requirement already satisfied: urllib3<3,>=1.21.1 in /usr/local/lib/python3.12/dist-packages (from requests<3,>=2.27.0->tweepy) (2.5.0)\n",
            "Requirement already satisfied: certifi>=2017.4.17 in /usr/local/lib/python3.12/dist-packages (from requests<3,>=2.27.0->tweepy) (2025.8.3)\n"
          ]
        }
      ],
      "source": [
        "!pip install tweepy pandas"
      ]
    },
    {
      "cell_type": "markdown",
      "source": [
        "# Step 2. Masukkan API Key (Bearer Token)\n",
        "Mahasiswa perlu mendaftar X Developer Portal untuk mendapatkan Bearer Token."
      ],
      "metadata": {
        "id": "YjXlVcblbhxk"
      }
    },
    {
      "cell_type": "code",
      "source": [
        "import tweepy\n",
        "import pandas as pd\n",
        "\n",
        "# Ganti dengan Bearer Token Anda\n",
        "bearer_token = \"xxxxxxxxx\"\n",
        "\n",
        "client = tweepy.Client(bearer_token=bearer_token)"
      ],
      "metadata": {
        "id": "6hi19pg6b0mz"
      },
      "execution_count": 4,
      "outputs": []
    },
    {
      "cell_type": "markdown",
      "source": [
        "# Step 3. Query Tweets"
      ],
      "metadata": {
        "id": "5dHpIlYlb4BO"
      }
    },
    {
      "cell_type": "code",
      "source": [
        "query = \"smart city lang:id -is:retweet\"\n",
        "\n",
        "tweets = client.search_recent_tweets(\n",
        "    query=query,\n",
        "    tweet_fields=[\"created_at\", \"author_id\", \"text\", \"public_metrics\"],\n",
        "    max_results=20\n",
        ")\n",
        "\n",
        "data = []\n",
        "for t in tweets.data:\n",
        "    data.append([\n",
        "        t.created_at,\n",
        "        t.author_id,\n",
        "        t.text,\n",
        "        t.public_metrics[\"like_count\"],\n",
        "        t.public_metrics[\"retweet_count\"]\n",
        "    ])\n",
        "\n",
        "df = pd.DataFrame(data, columns=[\"Date\",\"UserID\",\"Content\",\"Likes\",\"Retweets\"])\n",
        "df.head()"
      ],
      "metadata": {
        "colab": {
          "base_uri": "https://localhost:8080/",
          "height": 206
        },
        "id": "rDCA7erwael5",
        "outputId": "910f5072-5b57-4293-b4ea-bb708c6a5dfa"
      },
      "execution_count": 7,
      "outputs": [
        {
          "output_type": "execute_result",
          "data": {
            "text/plain": [
              "                       Date               UserID  \\\n",
              "0 2025-09-28 09:00:59+00:00  1780518229317910528   \n",
              "1 2025-09-28 08:25:49+00:00  1619570587986190336   \n",
              "2 2025-09-28 02:59:10+00:00  1684030039980118016   \n",
              "3 2025-09-28 01:00:07+00:00  1972101681233133568   \n",
              "4 2025-09-28 00:59:23+00:00  1972101681233133568   \n",
              "\n",
              "                                             Content  Likes  Retweets  \n",
              "0  Dholera Smart City Project Gujarat - Dholera M...      0         0  \n",
              "1  @Mbwesaa tatu city huwa tu smart ukiwa nje bt ...      0         0  \n",
              "2  @save07republic @Satirical_Dhruv Ek kaam kar m...      0         0  \n",
              "3  Yana Mulyana, mantan Wali Kota Bandung, resmi ...      1         0  \n",
              "4  Konoha Nagari - Smart City Kucipta (Lirik)\\nht...      1         0  "
            ],
            "text/html": [
              "\n",
              "  <div id=\"df-4b3f839a-9b3e-4553-97aa-9098d7c79020\" class=\"colab-df-container\">\n",
              "    <div>\n",
              "<style scoped>\n",
              "    .dataframe tbody tr th:only-of-type {\n",
              "        vertical-align: middle;\n",
              "    }\n",
              "\n",
              "    .dataframe tbody tr th {\n",
              "        vertical-align: top;\n",
              "    }\n",
              "\n",
              "    .dataframe thead th {\n",
              "        text-align: right;\n",
              "    }\n",
              "</style>\n",
              "<table border=\"1\" class=\"dataframe\">\n",
              "  <thead>\n",
              "    <tr style=\"text-align: right;\">\n",
              "      <th></th>\n",
              "      <th>Date</th>\n",
              "      <th>UserID</th>\n",
              "      <th>Content</th>\n",
              "      <th>Likes</th>\n",
              "      <th>Retweets</th>\n",
              "    </tr>\n",
              "  </thead>\n",
              "  <tbody>\n",
              "    <tr>\n",
              "      <th>0</th>\n",
              "      <td>2025-09-28 09:00:59+00:00</td>\n",
              "      <td>1780518229317910528</td>\n",
              "      <td>Dholera Smart City Project Gujarat - Dholera M...</td>\n",
              "      <td>0</td>\n",
              "      <td>0</td>\n",
              "    </tr>\n",
              "    <tr>\n",
              "      <th>1</th>\n",
              "      <td>2025-09-28 08:25:49+00:00</td>\n",
              "      <td>1619570587986190336</td>\n",
              "      <td>@Mbwesaa tatu city huwa tu smart ukiwa nje bt ...</td>\n",
              "      <td>0</td>\n",
              "      <td>0</td>\n",
              "    </tr>\n",
              "    <tr>\n",
              "      <th>2</th>\n",
              "      <td>2025-09-28 02:59:10+00:00</td>\n",
              "      <td>1684030039980118016</td>\n",
              "      <td>@save07republic @Satirical_Dhruv Ek kaam kar m...</td>\n",
              "      <td>0</td>\n",
              "      <td>0</td>\n",
              "    </tr>\n",
              "    <tr>\n",
              "      <th>3</th>\n",
              "      <td>2025-09-28 01:00:07+00:00</td>\n",
              "      <td>1972101681233133568</td>\n",
              "      <td>Yana Mulyana, mantan Wali Kota Bandung, resmi ...</td>\n",
              "      <td>1</td>\n",
              "      <td>0</td>\n",
              "    </tr>\n",
              "    <tr>\n",
              "      <th>4</th>\n",
              "      <td>2025-09-28 00:59:23+00:00</td>\n",
              "      <td>1972101681233133568</td>\n",
              "      <td>Konoha Nagari - Smart City Kucipta (Lirik)\\nht...</td>\n",
              "      <td>1</td>\n",
              "      <td>0</td>\n",
              "    </tr>\n",
              "  </tbody>\n",
              "</table>\n",
              "</div>\n",
              "    <div class=\"colab-df-buttons\">\n",
              "\n",
              "  <div class=\"colab-df-container\">\n",
              "    <button class=\"colab-df-convert\" onclick=\"convertToInteractive('df-4b3f839a-9b3e-4553-97aa-9098d7c79020')\"\n",
              "            title=\"Convert this dataframe to an interactive table.\"\n",
              "            style=\"display:none;\">\n",
              "\n",
              "  <svg xmlns=\"http://www.w3.org/2000/svg\" height=\"24px\" viewBox=\"0 -960 960 960\">\n",
              "    <path d=\"M120-120v-720h720v720H120Zm60-500h600v-160H180v160Zm220 220h160v-160H400v160Zm0 220h160v-160H400v160ZM180-400h160v-160H180v160Zm440 0h160v-160H620v160ZM180-180h160v-160H180v160Zm440 0h160v-160H620v160Z\"/>\n",
              "  </svg>\n",
              "    </button>\n",
              "\n",
              "  <style>\n",
              "    .colab-df-container {\n",
              "      display:flex;\n",
              "      gap: 12px;\n",
              "    }\n",
              "\n",
              "    .colab-df-convert {\n",
              "      background-color: #E8F0FE;\n",
              "      border: none;\n",
              "      border-radius: 50%;\n",
              "      cursor: pointer;\n",
              "      display: none;\n",
              "      fill: #1967D2;\n",
              "      height: 32px;\n",
              "      padding: 0 0 0 0;\n",
              "      width: 32px;\n",
              "    }\n",
              "\n",
              "    .colab-df-convert:hover {\n",
              "      background-color: #E2EBFA;\n",
              "      box-shadow: 0px 1px 2px rgba(60, 64, 67, 0.3), 0px 1px 3px 1px rgba(60, 64, 67, 0.15);\n",
              "      fill: #174EA6;\n",
              "    }\n",
              "\n",
              "    .colab-df-buttons div {\n",
              "      margin-bottom: 4px;\n",
              "    }\n",
              "\n",
              "    [theme=dark] .colab-df-convert {\n",
              "      background-color: #3B4455;\n",
              "      fill: #D2E3FC;\n",
              "    }\n",
              "\n",
              "    [theme=dark] .colab-df-convert:hover {\n",
              "      background-color: #434B5C;\n",
              "      box-shadow: 0px 1px 3px 1px rgba(0, 0, 0, 0.15);\n",
              "      filter: drop-shadow(0px 1px 2px rgba(0, 0, 0, 0.3));\n",
              "      fill: #FFFFFF;\n",
              "    }\n",
              "  </style>\n",
              "\n",
              "    <script>\n",
              "      const buttonEl =\n",
              "        document.querySelector('#df-4b3f839a-9b3e-4553-97aa-9098d7c79020 button.colab-df-convert');\n",
              "      buttonEl.style.display =\n",
              "        google.colab.kernel.accessAllowed ? 'block' : 'none';\n",
              "\n",
              "      async function convertToInteractive(key) {\n",
              "        const element = document.querySelector('#df-4b3f839a-9b3e-4553-97aa-9098d7c79020');\n",
              "        const dataTable =\n",
              "          await google.colab.kernel.invokeFunction('convertToInteractive',\n",
              "                                                    [key], {});\n",
              "        if (!dataTable) return;\n",
              "\n",
              "        const docLinkHtml = 'Like what you see? Visit the ' +\n",
              "          '<a target=\"_blank\" href=https://colab.research.google.com/notebooks/data_table.ipynb>data table notebook</a>'\n",
              "          + ' to learn more about interactive tables.';\n",
              "        element.innerHTML = '';\n",
              "        dataTable['output_type'] = 'display_data';\n",
              "        await google.colab.output.renderOutput(dataTable, element);\n",
              "        const docLink = document.createElement('div');\n",
              "        docLink.innerHTML = docLinkHtml;\n",
              "        element.appendChild(docLink);\n",
              "      }\n",
              "    </script>\n",
              "  </div>\n",
              "\n",
              "\n",
              "    <div id=\"df-56cb0e9f-7683-44de-b280-870206769f83\">\n",
              "      <button class=\"colab-df-quickchart\" onclick=\"quickchart('df-56cb0e9f-7683-44de-b280-870206769f83')\"\n",
              "                title=\"Suggest charts\"\n",
              "                style=\"display:none;\">\n",
              "\n",
              "<svg xmlns=\"http://www.w3.org/2000/svg\" height=\"24px\"viewBox=\"0 0 24 24\"\n",
              "     width=\"24px\">\n",
              "    <g>\n",
              "        <path d=\"M19 3H5c-1.1 0-2 .9-2 2v14c0 1.1.9 2 2 2h14c1.1 0 2-.9 2-2V5c0-1.1-.9-2-2-2zM9 17H7v-7h2v7zm4 0h-2V7h2v10zm4 0h-2v-4h2v4z\"/>\n",
              "    </g>\n",
              "</svg>\n",
              "      </button>\n",
              "\n",
              "<style>\n",
              "  .colab-df-quickchart {\n",
              "      --bg-color: #E8F0FE;\n",
              "      --fill-color: #1967D2;\n",
              "      --hover-bg-color: #E2EBFA;\n",
              "      --hover-fill-color: #174EA6;\n",
              "      --disabled-fill-color: #AAA;\n",
              "      --disabled-bg-color: #DDD;\n",
              "  }\n",
              "\n",
              "  [theme=dark] .colab-df-quickchart {\n",
              "      --bg-color: #3B4455;\n",
              "      --fill-color: #D2E3FC;\n",
              "      --hover-bg-color: #434B5C;\n",
              "      --hover-fill-color: #FFFFFF;\n",
              "      --disabled-bg-color: #3B4455;\n",
              "      --disabled-fill-color: #666;\n",
              "  }\n",
              "\n",
              "  .colab-df-quickchart {\n",
              "    background-color: var(--bg-color);\n",
              "    border: none;\n",
              "    border-radius: 50%;\n",
              "    cursor: pointer;\n",
              "    display: none;\n",
              "    fill: var(--fill-color);\n",
              "    height: 32px;\n",
              "    padding: 0;\n",
              "    width: 32px;\n",
              "  }\n",
              "\n",
              "  .colab-df-quickchart:hover {\n",
              "    background-color: var(--hover-bg-color);\n",
              "    box-shadow: 0 1px 2px rgba(60, 64, 67, 0.3), 0 1px 3px 1px rgba(60, 64, 67, 0.15);\n",
              "    fill: var(--button-hover-fill-color);\n",
              "  }\n",
              "\n",
              "  .colab-df-quickchart-complete:disabled,\n",
              "  .colab-df-quickchart-complete:disabled:hover {\n",
              "    background-color: var(--disabled-bg-color);\n",
              "    fill: var(--disabled-fill-color);\n",
              "    box-shadow: none;\n",
              "  }\n",
              "\n",
              "  .colab-df-spinner {\n",
              "    border: 2px solid var(--fill-color);\n",
              "    border-color: transparent;\n",
              "    border-bottom-color: var(--fill-color);\n",
              "    animation:\n",
              "      spin 1s steps(1) infinite;\n",
              "  }\n",
              "\n",
              "  @keyframes spin {\n",
              "    0% {\n",
              "      border-color: transparent;\n",
              "      border-bottom-color: var(--fill-color);\n",
              "      border-left-color: var(--fill-color);\n",
              "    }\n",
              "    20% {\n",
              "      border-color: transparent;\n",
              "      border-left-color: var(--fill-color);\n",
              "      border-top-color: var(--fill-color);\n",
              "    }\n",
              "    30% {\n",
              "      border-color: transparent;\n",
              "      border-left-color: var(--fill-color);\n",
              "      border-top-color: var(--fill-color);\n",
              "      border-right-color: var(--fill-color);\n",
              "    }\n",
              "    40% {\n",
              "      border-color: transparent;\n",
              "      border-right-color: var(--fill-color);\n",
              "      border-top-color: var(--fill-color);\n",
              "    }\n",
              "    60% {\n",
              "      border-color: transparent;\n",
              "      border-right-color: var(--fill-color);\n",
              "    }\n",
              "    80% {\n",
              "      border-color: transparent;\n",
              "      border-right-color: var(--fill-color);\n",
              "      border-bottom-color: var(--fill-color);\n",
              "    }\n",
              "    90% {\n",
              "      border-color: transparent;\n",
              "      border-bottom-color: var(--fill-color);\n",
              "    }\n",
              "  }\n",
              "</style>\n",
              "\n",
              "      <script>\n",
              "        async function quickchart(key) {\n",
              "          const quickchartButtonEl =\n",
              "            document.querySelector('#' + key + ' button');\n",
              "          quickchartButtonEl.disabled = true;  // To prevent multiple clicks.\n",
              "          quickchartButtonEl.classList.add('colab-df-spinner');\n",
              "          try {\n",
              "            const charts = await google.colab.kernel.invokeFunction(\n",
              "                'suggestCharts', [key], {});\n",
              "          } catch (error) {\n",
              "            console.error('Error during call to suggestCharts:', error);\n",
              "          }\n",
              "          quickchartButtonEl.classList.remove('colab-df-spinner');\n",
              "          quickchartButtonEl.classList.add('colab-df-quickchart-complete');\n",
              "        }\n",
              "        (() => {\n",
              "          let quickchartButtonEl =\n",
              "            document.querySelector('#df-56cb0e9f-7683-44de-b280-870206769f83 button');\n",
              "          quickchartButtonEl.style.display =\n",
              "            google.colab.kernel.accessAllowed ? 'block' : 'none';\n",
              "        })();\n",
              "      </script>\n",
              "    </div>\n",
              "\n",
              "    </div>\n",
              "  </div>\n"
            ],
            "application/vnd.google.colaboratory.intrinsic+json": {
              "type": "dataframe",
              "variable_name": "df",
              "summary": "{\n  \"name\": \"df\",\n  \"rows\": 20,\n  \"fields\": [\n    {\n      \"column\": \"Date\",\n      \"properties\": {\n        \"dtype\": \"date\",\n        \"min\": \"2025-09-26 11:00:03+00:00\",\n        \"max\": \"2025-09-28 09:00:59+00:00\",\n        \"num_unique_values\": 20,\n        \"samples\": [\n          \"2025-09-28 09:00:59+00:00\",\n          \"2025-09-26 13:48:28+00:00\",\n          \"2025-09-26 21:07:58+00:00\"\n        ],\n        \"semantic_type\": \"\",\n        \"description\": \"\"\n      }\n    },\n    {\n      \"column\": \"UserID\",\n      \"properties\": {\n        \"dtype\": \"number\",\n        \"std\": 577718712901685632,\n        \"min\": 82313210,\n        \"max\": 1972101681233133568,\n        \"num_unique_values\": 17,\n        \"samples\": [\n          1780518229317910528,\n          1619570587986190336,\n          1908927557413842944\n        ],\n        \"semantic_type\": \"\",\n        \"description\": \"\"\n      }\n    },\n    {\n      \"column\": \"Content\",\n      \"properties\": {\n        \"dtype\": \"string\",\n        \"num_unique_values\": 20,\n        \"samples\": [\n          \"Dholera Smart City Project Gujarat - Dholera Metro City\\u00ae https://t.co/tRmSejaonM\",\n          \"@CoronaAnbe @polimernews Ethana Nootrandu aanalum engala mari smart city aaga mati ga\",\n          \"#uppcl\\n#sdo bareilly \\n# JE bareilly \\nBareilly ke prem nagar aeria me 26/09/2025. 3 pm se laghit nahi aa rahi  Smart city me itne tima tak ka break. Ho raha hai.  8979178250 aeria prem nagar\"\n        ],\n        \"semantic_type\": \"\",\n        \"description\": \"\"\n      }\n    },\n    {\n      \"column\": \"Likes\",\n      \"properties\": {\n        \"dtype\": \"number\",\n        \"std\": 1,\n        \"min\": 0,\n        \"max\": 6,\n        \"num_unique_values\": 5,\n        \"samples\": [\n          1,\n          5,\n          6\n        ],\n        \"semantic_type\": \"\",\n        \"description\": \"\"\n      }\n    },\n    {\n      \"column\": \"Retweets\",\n      \"properties\": {\n        \"dtype\": \"number\",\n        \"std\": 0,\n        \"min\": 0,\n        \"max\": 2,\n        \"num_unique_values\": 2,\n        \"samples\": [\n          2,\n          0\n        ],\n        \"semantic_type\": \"\",\n        \"description\": \"\"\n      }\n    }\n  ]\n}"
            }
          },
          "metadata": {},
          "execution_count": 7
        }
      ]
    },
    {
      "cell_type": "markdown",
      "source": [
        "# Step 4. Simpan Dataset"
      ],
      "metadata": {
        "id": "i-3SfXIucdwq"
      }
    },
    {
      "cell_type": "code",
      "source": [
        "df.to_csv(\"tweets_smartcity.csv\", index=False)\n",
        "print(\"✅ Dataset disimpan sebagai tweets_smartcity.csv\")"
      ],
      "metadata": {
        "colab": {
          "base_uri": "https://localhost:8080/"
        },
        "id": "JuLCY_ancavF",
        "outputId": "0921790c-56ee-44ed-b90b-f8013ec64385"
      },
      "execution_count": 8,
      "outputs": [
        {
          "output_type": "stream",
          "name": "stdout",
          "text": [
            "✅ Dataset disimpan sebagai tweets_smartcity.csv\n"
          ]
        }
      ]
    },
    {
      "cell_type": "markdown",
      "source": [
        "# Classroom Activities\n",
        "\n",
        "1. Ganti query (misal: \"AI lang:id\", \"#ClimateChange lang:en\").\n",
        "\n",
        "2. Bandingkan hasil beberapa keyword: tema apa yang lebih ramai?\n",
        "\n",
        "3. Diskusi tentang batasan API resmi (rate limit, izin akses).\n",
        "\n",
        "4. Refleksi etika: apakah boleh publikasi tweet orang lain tanpa izin?"
      ],
      "metadata": {
        "id": "lIx0gH-WcieZ"
      }
    },
    {
      "cell_type": "markdown",
      "source": [
        "# Assessment\n",
        "\n",
        "* Tugas individu: ambil 100 tweet sesuai topik pilihan, simpan CSV, lalu deskripsikan 3 hal: volume, engagement (likes/retweets), contoh konten.\n",
        "\n",
        "* Tugas kelompok: diskusi tentang risiko & etika penggunaan data Twitter/X untuk penelitian."
      ],
      "metadata": {
        "id": "BvVrm8V2cwYt"
      }
    }
  ]
}